{
 "cells": [
  {
   "cell_type": "markdown",
   "metadata": {},
   "source": [
    "# INTRODUCTION TO PATTERN RECOGNITION\n",
    "## PROGRAMMING ASSIGNMENT -1"
   ]
  },
  {
   "cell_type": "markdown",
   "metadata": {},
   "source": [
    "__1. Import essential libraries__\n",
    " * numpy\n",
    " * pandas\n",
    " * mlxtend.data to import the MNIST dataset\n",
    " * cv2 to write the images for mean and standard deviation"
   ]
  },
  {
   "cell_type": "code",
   "execution_count": 18,
   "metadata": {},
   "outputs": [],
   "source": [
    "import numpy as np\n",
    "import math\n",
    "from mlxtend.data import loadlocal_mnist\n",
    "import pandas as pd\n",
    "import cv2"
   ]
  },
  {
   "cell_type": "markdown",
   "metadata": {},
   "source": [
    "__2. Import the MNIST dataset__\n",
    "  * Images path for features for the digits\n",
    "  * Labels indicate the digits"
   ]
  },
  {
   "cell_type": "code",
   "execution_count": 19,
   "metadata": {},
   "outputs": [],
   "source": [
    "X_train, y_train= loadlocal_mnist(images_path='train-images-idx3-ubyte',\n",
    "                                  labels_path='train-labels-idx1-ubyte')"
   ]
  },
  {
   "cell_type": "code",
   "execution_count": 20,
   "metadata": {},
   "outputs": [
    {
     "name": "stdout",
     "output_type": "stream",
     "text": [
      "5\n"
     ]
    },
    {
     "data": {
      "image/png": "[encoded data removed]",
      "text/plain": [
       "<Figure size 432x288 with 1 Axes>"
      ]
     },
     "metadata": {
      "needs_background": "light"
     },
     "output_type": "display_data"
    }
   ],
   "source": [
    "import matplotlib.pyplot as plt\n",
    "\n",
    "a = X_train[0].reshape(28, 28)\n",
    "plt.imshow(a)\n",
    "print(y_train[0])"
   ]
  },
  {
   "cell_type": "markdown",
   "metadata": {},
   "source": [
    "__3. Load the training dataset onto a dataframe, which makes it easier to access the data__"
   ]
  },
  {
   "cell_type": "code",
   "execution_count": 21,
   "metadata": {},
   "outputs": [],
   "source": [
    "df=pd.DataFrame(X_train,y_train)"
   ]
  },
  {
   "cell_type": "markdown",
   "metadata": {},
   "source": [
    "__4. Function that calculates the mean and standard deviation for all of the 10 classes (10 digits).__"
   ]
  },
  {
   "cell_type": "markdown",
   "metadata": {},
   "source": [
    "* The mean for the data can be calulated by the following equation:\n",
    "    \n",
    "\\begin{align}\n",
    "\\mu = \\frac{( \\sum X_i)}{N}\n",
    "\\end{align}\n",
    "            \n",
    "       * where the N is the length for each class of digits.\n",
    "       * X is the individual features for each of the classes.\n",
    "   \n",
    "   \n",
    "* The standard deviation for the data:</br>\n",
    "    \n",
    "\\begin{align}\n",
    "\\sigma = \\sqrt{\\frac{\\sum (  x_{ij} - \\mu_i)}{N}}\n",
    "\\end{align}"
   ]
  },
  {
   "cell_type": "code",
   "execution_count": 22,
   "metadata": {},
   "outputs": [],
   "source": [
    "def mandstd(n):\n",
    "    x=[]\n",
    "    y=[]\n",
    "    s=0\n",
    "    for i in range(n):\n",
    "        l=df.loc[i]\n",
    "        mean=l.sum()/len(l)\n",
    "        diff=(l-mean)**2\n",
    "        s=diff.sum()\n",
    "        var=s/len(l)\n",
    "        SD=np.sqrt(var)\n",
    "        x.append(mean)\n",
    "        y.append(SD)\n",
    "        \n",
    "    return x,y"
   ]
  },
  {
   "cell_type": "markdown",
   "metadata": {},
   "source": [
    "__5. Calling the above function and storing the mean and standard deviation in 2 lists x and y.__"
   ]
  },
  {
   "cell_type": "code",
   "execution_count": 23,
   "metadata": {},
   "outputs": [],
   "source": [
    "x,y=mandstd(10)"
   ]
  },
  {
   "cell_type": "code",
   "execution_count": 53,
   "metadata": {},
   "outputs": [
    {
     "name": "stdout",
     "output_type": "stream",
     "text": [
      "<class 'pandas.core.series.Series'>\n"
     ]
    }
   ],
   "source": [
    "print(type(y[0]))"
   ]
  },
  {
   "cell_type": "markdown",
   "metadata": {},
   "source": [
    "__6. The next step is to convert the list and draw an image based on the results of mean and standard deviation.__\n",
    "\n",
    "    * For the mean and standard deviation images we take all the 10 classes and convert it into a 28x28 pixel  matrix and pass it on to the imwrite() function provided by the opencv library."
   ]
  },
  {
   "cell_type": "code",
   "execution_count": 24,
   "metadata": {},
   "outputs": [],
   "source": [
    "x2=[]\n",
    "y2=[]\n",
    "for i in range(10):\n",
    "    x2.append(np.array(x[i]).reshape(28,28))\n",
    "    y2.append(np.array(y[i]).reshape(28,28))\n",
    "    cv2.imwrite(\"mean{}.png\".format(i),x2[i])\n",
    "    cv2.imwrite(\"sd{}.png\".format(i),y2[i])"
   ]
  },
  {
   "attachments": {
    "mean0.png": {
     "image/png": "[encoded data removed]"
    },
    "mean1.png": {
     "image/png": "[encoded data removed]"
    },
    "mean2.png": {
     "image/png": "[encoded data removed]"
    },
    "mean3.png": {
     "image/png": "[encoded data removed]"
    },
    "mean4.png": {
     "image/png": "[encoded data removed]"
    },
    "mean5.png": {
     "image/png": "[encoded data removed]"
    },
    "mean6.png": {
     "image/png": "[encoded data removed]"
    },
    "mean7.png": {
     "image/png": "[encoded data removed]"
    },
    "mean8.png": {
     "image/png": "[encoded data removed]"
    },
    "mean9.png": {
     "image/png": "[encoded data removed]"
    },
    "sd0.png": {
     "image/png": "[encoded data removed]"
    },
    "sd1.png": {
     "image/png": "[encoded data removed]"
    },
    "sd2.png": {
     "image/png": "[encoded data removed]"
    },
    "sd3.png": {
     "image/png": "[encoded data removed]"
    },
    "sd4.png": {
     "image/png": "[encoded data removed]"
    },
    "sd5.png": {
     "image/png": "[encoded data removed]"
    },
    "sd6.png": {
     "image/png": "[encoded data removed]"
    },
    "sd7.png": {
     "image/png": "[encoded data removed]"
    },
    "sd8.png": {
     "image/png": "[encoded data removed]"
    },
    "sd9.png": {
     "image/png": "[encoded data removed]"
    }
   },
   "cell_type": "markdown",
   "metadata": {},
   "source": [
    "### Images for mean\n",
    "\n",
    "![mean0.png](attachment:mean0.png)\n",
    "![mean1.png](attachment:mean1.png)\n",
    "![mean2.png](attachment:mean2.png)\n",
    "![mean3.png](attachment:mean3.png)\n",
    "![mean4.png](attachment:mean4.png)\n",
    "![mean5.png](attachment:mean5.png)\n",
    "![mean6.png](attachment:mean6.png)\n",
    "![mean7.png](attachment:mean7.png)\n",
    "![mean8.png](attachment:mean8.png)\n",
    "![mean9.png](attachment:mean9.png)\n",
    "\n",
    "## Images for Standard Deviation\n",
    "\n",
    "![sd0.png](attachment:sd0.png)\n",
    "![sd1.png](attachment:sd1.png)\n",
    "![sd2.png](attachment:sd2.png)\n",
    "![sd3.png](attachment:sd3.png)\n",
    "![sd4.png](attachment:sd4.png)\n",
    "![sd5.png](attachment:sd5.png)\n",
    "![sd6.png](attachment:sd6.png)\n",
    "![sd7.png](attachment:sd7.png)\n",
    "![sd8.png](attachment:sd8.png)\n",
    "![sd9.png](attachment:sd9.png)"
   ]
  },
  {
   "cell_type": "markdown",
   "metadata": {},
   "source": [
    "__7. Covariance matrix__\n",
    "    \n",
    "    * Covariance matrix is required in the LDA function.\n",
    "    * The values are added along the diagonal.\n",
    "    * An offset is added to the Variance matrix in order to avoid the Singular matrix ( Where the determinant of the matrix becomes 0."
   ]
  },
  {
   "cell_type": "code",
   "execution_count": 51,
   "metadata": {},
   "outputs": [],
   "source": [
    "# Offset so that the determinant of the matrix does not become 0.\n",
    "for i in range(len(y)):\n",
    "    for j in range(784):\n",
    "        y[i][j]+=0.01\n",
    "\n",
    "cov=[]\n",
    "inv=[]\n",
    "for i in range(len(y)):\n",
    "    a=np.diag(y[i]**2)\n",
    "    cov.append(a)\n",
    "    b=np.linalg.inv(cov[i])\n",
    "    inv.append(b)\n"
   ]
  },
  {
   "cell_type": "markdown",
   "metadata": {},
   "source": [
    "__8. Loading the Testing data__"
   ]
  },
  {
   "cell_type": "code",
   "execution_count": 27,
   "metadata": {},
   "outputs": [],
   "source": [
    "X_test, y_test=loadlocal_mnist(images_path='t10k-images-idx3-ubyte',\n",
    "                                labels_path='t10k-labels-idx1-ubyte')"
   ]
  },
  {
   "cell_type": "markdown",
   "metadata": {},
   "source": [
    "__9. Writing the LDA classifier to predict. __\n",
    "\n",
    " * Guassian Distribution - The LDA function is derived by the above equation.\n",
    " \n",
    "\\begin{align}\n",
    "p(x)=\\frac{1}{(2π)^{d/2}|\\sum|^{1/2}}exp(−\\frac{1}{2}(x−\\mu)^{′}\\sum^{−1}(x−\\mu))\n",
    "\\end{align}\n",
    "\n",
    " * Then we take Log Likelyhood of the above equation to get the discriminant function.\n",
    " \n",
    " \\begin{align}\n",
    "\\boldsymbol{g_{i}(x) = \\log p(x|\\omega_i) + \\log P(\\omega_i)}\n",
    "\\end{align}\n",
    "\\begin{align}\n",
    "\\newline = -\\frac{1}{2}(x - \\mu_{i})^{-1} \\sum^{-1}(x - \\mu_{i}) - \\frac{d}{2} \\log (2 \\pi) -\\frac{1}{2} \\log |\\sum_i| + \\log P(\\omega_i)\n",
    "\\end{align}\n",
    "\n",
    " * Now we take the case 3 of the LDA, as we have different Standard Deviations for different classes:\n",
    "   Case 3 is defined by:\n",
    "   \n",
    "\\begin{align}\n",
    "\\boldsymbol{g_i = x^{t} W_i x + N_{i}^{t} x + B_{i0}}\n",
    "\\end{align}\n",
    "\\begin{align}\n",
    "\\newline\n",
    "where, W_i = - \\frac{1}{2} \\sum_{i}^{-1} , N_{i} = \\sum_{i}^{-1} \\mu_{i} and B_{i0} = - \\frac{1}{2} \\mu_{i}^{t} \\sum_{i}^{-1} \\mu_{i} + ln P(w_i) - \\frac{1}{2} ln |\\sum_{i}| \n",
    "\\end{align}\n",
    " \n",
    " "
   ]
  },
  {
   "cell_type": "code",
   "execution_count": 28,
   "metadata": {},
   "outputs": [],
   "source": [
    "W=[]\n",
    "N=[]\n",
    "B=[]\n",
    "g=[]\n",
    "y_pred=[]\n",
    "a=np.asarray(inv)\n",
    "b=np.asarray(x)\n",
    "for i in range(len(y)):\n",
    "    W.append(a[i]*(-0.5))\n",
    "    N.append(np.matmul(a[i],b[i]))\n",
    "    b1=np.matmul(np.matmul(b[i].T, a[i]), b[i])\n",
    "    B.append((-0.5)*b1)\n",
    "    \n",
    "N=np.asarray(N)\n",
    "for i in range(10000):\n",
    "    g=[]\n",
    "    for j in range(10):\n",
    "        g1=B[j]\n",
    "        g2=np.matmul(N[j].T,X_test[i])\n",
    "        g3=np.matmul(np.matmul(X_test[i].T, W[j]), X_test[i])\n",
    "        g.append(g1+g2+g3)\n",
    "    \n",
    "    y_pred.append(np.argmax(g))"
   ]
  },
  {
   "cell_type": "markdown",
   "metadata": {},
   "source": [
    "__10. 0-1 Loss function__\n",
    "\\begin{align}\n",
    "\\boldsymbol{\\lambda =}\n",
    "\\begin{cases}\n",
    "     0, i=j\\\\\n",
    "    \\newline 1,i \\neq j\\\\\n",
    "\\end{cases}\n",
    "\\end{align}\n",
    "\n",
    "The 0-1 loss function is used to find the accuracy. This is done by finding the the number of 1's when the predicted value is same as the data from test data and 0's when the predicted value is false."
   ]
  },
  {
   "cell_type": "code",
   "execution_count": 29,
   "metadata": {},
   "outputs": [
    {
     "name": "stdout",
     "output_type": "stream",
     "text": [
      "Accuracy: 81.73\n"
     ]
    }
   ],
   "source": [
    "y_pred=np.asarray(y_pred)\n",
    "y_test=np.asarray(y_test)\n",
    "it=np.nditer(y_pred)\n",
    "it1=np.nditer(y_test)\n",
    "trues=[]\n",
    "falses=[]\n",
    "count=0\n",
    "\n",
    "while not it.finished:\n",
    "    if(it[0]==it1[0]):\n",
    "        trues.append(1)\n",
    "    it.iternext()\n",
    "    it1.iternext()\n",
    "    \n",
    "while not it.finished:\n",
    "    if(it[0]!=it1[0]):\n",
    "        falses.append(0)\n",
    "    it.iternext()\n",
    "    it1.iternext()\n",
    "    \n",
    "count=np.count_nonzero(trues)+np.count_nonzero(falses==0)\n",
    "print(\"Accuracy:\",(count/len(y_test))*100)"
   ]
  },
  {
   "cell_type": "markdown",
   "metadata": {},
   "source": [
    "__Q. Why it doesn't perform as good as many other methods on LeCuns web page?__\n",
    "\n",
    "A. There are few reasons why LDA does not perform better than the other methods performed on LeCuns web page:\n",
    "   * We are performing the LDA function based on the assumption that the MNIST dataset is a guassian distribution, \n",
    "     but the guassian distribution does not perform well on high dimensional data images.\n",
    "   * One more reason is that the LDA tries to find a hyperplane such that the variances are maximized which is not \n",
    "     an optimal hyperplane whereas when we consider a single layer perceptron or a multilayer perceptron, it tries \n",
    "     find optimal hyperplane to disjoin the labelled dataset."
   ]
  }
 ],
 "metadata": {
  "kernelspec": {
   "display_name": "Python 3",
   "language": "python",
   "name": "python3"
  },
  "language_info": {
   "codemirror_mode": {
    "name": "ipython",
    "version": 3
   },
   "file_extension": ".py",
   "mimetype": "text/x-python",
   "name": "python",
   "nbconvert_exporter": "python",
   "pygments_lexer": "ipython3",
   "version": "3.7.5"
  },
  "latex_envs": {
   "LaTeX_envs_menu_present": true,
   "autoclose": false,
   "autocomplete": true,
   "bibliofile": "biblio.bib",
   "cite_by": "apalike",
   "current_citInitial": 1,
   "eqLabelWithNumbers": true,
   "eqNumInitial": 1,
   "hotkeys": {
    "equation": "Ctrl-E",
    "itemize": "Ctrl-I"
   },
   "labels_anchors": false,
   "latex_user_defs": false,
   "report_style_numbering": false,
   "user_envs_cfg": false
  }
 },
 "nbformat": 4,
 "nbformat_minor": 2
}
