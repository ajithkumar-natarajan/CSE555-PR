{
 "cells": [
  {
   "cell_type": "markdown",
   "metadata": {},
   "source": [
    "## Linear Discriminant Functions and Support Vector Machines\n",
    "### Siddheswar Chandrasekhar\n",
    "<br>"
   ]
  },
  {
   "cell_type": "markdown",
   "metadata": {},
   "source": [
    "### Part 1\n",
    "##### We train a Support Vector classifier using the MNIST training dataset and report performance using MNIST testing dataset"
   ]
  },
  {
   "cell_type": "code",
   "execution_count": 13,
   "metadata": {},
   "outputs": [],
   "source": [
    "#!/usr/bin/env python\n",
    "# -*- coding: utf-8 -*-\n",
    "# @Author: Siddheswar C\n",
    "# @Email: innocentdevil.sid007@gmail.com\n",
    "\n",
    "\n",
    "import tensorflow as tf\n",
    "import numpy as np\n",
    "from sklearn import svm, metrics\n",
    "from sklearn.metrics import confusion_matrix\n",
    "from matplotlib import pyplot as plt"
   ]
  },
  {
   "cell_type": "code",
   "execution_count": 14,
   "metadata": {},
   "outputs": [],
   "source": [
    "class ConfusionMatrix:\n",
    "\n",
    "    # Calculate Confusion Matrix\n",
    "    @staticmethod\n",
    "    def calculate(y, yhat):\n",
    "        return confusion_matrix(y, yhat)\n",
    "\n",
    "    # Plot Confusion Matrix\n",
    "    @staticmethod\n",
    "    def plot(title, confusion, matrix_dimension):\n",
    "        plt.clf()\n",
    "        plt.xlabel('Actual Target (y)')\n",
    "        plt.ylabel('Predicted Target (yhat)')\n",
    "        plt.grid(False)\n",
    "        plt.xticks(np.arange(matrix_dimension))\n",
    "        plt.yticks(np.arange(matrix_dimension))\n",
    "        plt.title(title)\n",
    "        plt.imshow(confusion, cmap=plt.cm.jet, interpolation='nearest')\n",
    "\n",
    "        for i, cas in enumerate(confusion):\n",
    "            for j, count in enumerate(cas):\n",
    "                if count > 0:\n",
    "                    xoff = .07 * len(str(count))\n",
    "                    plt.text(j - xoff, i + .2, int(count), fontsize=9, color='white')"
   ]
  },
  {
   "cell_type": "code",
   "execution_count": 15,
   "metadata": {},
   "outputs": [],
   "source": [
    "def support_vector_machine(training_data, training_label, test_data, test_label):\n",
    "    confusion_mat = ConfusionMatrix()\n",
    "\n",
    "    print('Performing SVM')\n",
    "\n",
    "    # Classify as SVM\n",
    "    classifier = svm.SVC(C=1.0, kernel='linear', gamma='scale')\n",
    "\n",
    "    # Perform Training\n",
    "    classifier.fit(training_data, training_label)\n",
    "\n",
    "    # Predict\n",
    "    yhat = classifier.predict(test_data)\n",
    "\n",
    "    accuracy = metrics.accuracy_score(test_label, yhat)\n",
    "    confusion = confusion_mat.calculate(test_label, yhat)\n",
    "    confusion_mat.plot('SVM on MNIST dataset', confusion, confusion.shape[0])\n",
    "\n",
    "    return accuracy, confusion"
   ]
  },
  {
   "cell_type": "code",
   "execution_count": 16,
   "metadata": {},
   "outputs": [
    {
     "name": "stdout",
     "output_type": "stream",
     "text": [
      "Loading MNIST data\n",
      "Performing SVM\n",
      "Accuracy: 94.04%\n"
     ]
    },
    {
     "data": {
      "image/png": "[encoded data removed]",
      "text/plain": [
       "<Figure size 432x288 with 1 Axes>"
      ]
     },
     "metadata": {
      "needs_background": "light"
     },
     "output_type": "display_data"
    }
   ],
   "source": [
    "# Read and process the dataset\n",
    "print('Loading MNIST data')\n",
    "mnist = tf.keras.datasets.mnist\n",
    "(x_train, y_train), (x_test, y_test) = mnist.load_data()\n",
    "x_train, x_test = x_train / 255.0, x_test / 255.0\n",
    "\n",
    "IMAGE_SIZE = x_train.shape[-1]\n",
    "\n",
    "x_train = x_train.reshape((-1, IMAGE_SIZE*IMAGE_SIZE))\n",
    "x_test = x_test.reshape((-1, IMAGE_SIZE*IMAGE_SIZE))\n",
    "\n",
    "accuracy, confusion = support_vector_machine(x_train, y_train, x_test, y_test)\n",
    "print('Accuracy: ' + str(accuracy*100) + '%')"
   ]
  },
  {
   "cell_type": "markdown",
   "metadata": {},
   "source": [
    "### Part 2\n",
    "##### We identify the Lagrange dual problem given a primal problem"
   ]
  },
  {
   "cell_type": "markdown",
   "metadata": {},
   "source": [
    "\\begin{align*}\n",
    "\\text{minimize  } \\frac{1}{2}w^T.w+C \\sum_{n=1}^{N} \\xi_{i}\n",
    "\\\\\n",
    "\\text{subject to } y_i.(w^T.x_i) \\geq {1-\\xi_{i}} \\text{ and } \\xi_i \\geq 0 \\text{ for i }=1,...,N\n",
    "\\end{align*}\n",
    "The margin is :\n",
    " $\\gamma = \\frac{1}{\\sqrt{w^T.w +C \\sum_{i=1}^{N} \\xi_i }}$"
   ]
  },
  {
   "cell_type": "markdown",
   "metadata": {},
   "source": [
    "#### Lagrange function :"
   ]
  },
  {
   "cell_type": "markdown",
   "metadata": {},
   "source": [
    "\\begin{align}\n",
    "{\\mathcal{L}} = \\frac{1}{2} {\\overrightarrow{w}}^T\\overrightarrow{w} + C \\sum_{i=1}^N\\xi_i + \\Sigma_i\\alpha_i(1-y_i.w^Tx_i -\\xi_i) - \\sum_{i=1}^N \\beta_i \\xi_i\n",
    "\\end{align}\n",
    "<br><br>\n",
    "Lagrange multipliers $\\alpha \\geq 0$, $ \\beta \\geq 0$,<br>\n",
    "Inequality constraints $1 - y_i(w^Tx_i) - \\xi_i \\leq 0$ and $\\xi_i \\geq 0$ for $i=1,...,N$\n",
    "<br><br>\n",
    "#### Claim: <br>\n",
    "$\\underbrace{\\underset{\\alpha,\\beta}{max} \\underset{w,\\xi}{min} \\mathcal{L}}_\\text{dual solution} \\leq \\underbrace{\\underset{w,\\xi}{min} \\underset{\\alpha,\\beta}{max} \\mathcal{L}}_\\text{primal solution}$\n",
    "\n",
    "\\begin{align}\n",
    "{\\mathcal{L}} = \\frac{1}{2} {\\overrightarrow{w}}^T\\overrightarrow{w} + C \\sum_{i=1}^N\\xi_i + \\Sigma_i\\alpha_i(1-y_i.w^Tx_i -\\xi_i) - \\sum_{i=1}^N \\beta_i \\xi_i\n",
    "\\end{align}\n",
    "\n",
    "\\begin{align}\n",
    "\\\\\n",
    "  \\frac{\\partial_{\\mathcal{L}}}{\\partial_w} = w - \\sum_i \\alpha_i y_i x_i = 0 \\implies w = \\sum_i \\alpha_i y_i \\overrightarrow{x_i}\n",
    "  \\\\\n",
    "  \\frac{\\partial_{\\mathcal{L}}}{\\partial_\\xi} = 0 \\implies C - \\alpha_i - \\beta_i = 0\n",
    "  \\\\ \n",
    "  \\implies 0 \\leq \\alpha_i \\leq C \\text{ and } \\beta_i \\geq 0\n",
    "\\end{align}\n",
    "\n",
    "\\begin{align}\n",
    "\\text {Substituting } w = \\sum_i \\alpha_i y_i \\overrightarrow{x_i}, C=\\alpha_i + \\beta_i\n",
    "\\text { into Lagrange function, we get the dual problem of maximizing: }\n",
    "\\end{align}\n",
    "\n",
    "\\begin{align}\n",
    "{\\mathcal{L}} = \\frac{1}{2} w^T \\sum_i \\alpha_i y_i \\overrightarrow{x_i} + (\\alpha_i + \\beta_i) \\sum_{i=1}^N\\xi_i + \\Sigma_i\\alpha_i(1-y_i.w^Tx_i -\\xi_i) - \\sum_{i=1}^N \\beta_i \\xi_i\n",
    "\\\\= \\frac{1}{2} w^T \\sum_i \\alpha_i y_i \\overrightarrow{x_i} + \\alpha_i\\sum_{i=1}^N\\xi_i + \\beta_i \\sum_{i=1}^N\\xi_i +\\sum_i \\alpha_i - w^T \\sum_i \\alpha_i y_i \\overrightarrow{x_i} - \\sum_i \\alpha_i \\xi_i - \\sum_{i=1}^N \\beta_i \\xi_i\n",
    "\\end{align}\n",
    "\n",
    "\\begin{align}\n",
    "\\\\=\\sum_i \\alpha_i- \\frac{1}{2} \\sum_{i,j} \\alpha_i \\alpha_j y_i y_j (\\overrightarrow{x_i}^T x_j )\n",
    "\\end{align}\n"
   ]
  },
  {
   "cell_type": "markdown",
   "metadata": {},
   "source": [
    "The primal margin is :\n",
    " $\\gamma = \\frac{1}{\\sqrt{w^T.w +C \\sum_{i=1}^{N} \\xi_i }}$\n",
    " \n",
    "The dual margin is :\n",
    "$\\gamma = \\frac{1}{\\sqrt{\\alpha_i \\alpha_j y_i y_j (x_i^T x_j )}}$"
   ]
  },
  {
   "cell_type": "markdown",
   "metadata": {},
   "source": [
    "#### Benefits of maximizing the margin\n",
    "\n",
    "Maximizing the margin helps avoid overfitting. We may have found a hyperplane that completely seperates the classes in our training set, but a situation may arise that when a new data comes in, it is classifies on the wrong side of the hyperplane. This would happen when the hyperplane is oriented too close to the training data points.\n",
    "A large margin would help generalize the model and make better predictions on new datasets."
   ]
  },
  {
   "cell_type": "markdown",
   "metadata": {},
   "source": [
    "#### Characterize the support vectors\n",
    "\n",
    "* Lying on the margin boundaries w^T x + b = −1 and w^T x + b = +1 (ξn = 0)\n",
    "\n",
    "* Lying within the margin region (0 < ξn < 1) but still on the correct side\n",
    "\n",
    "* Lying on the wrong side of the hyperplane (ξn ≥ 1)"
   ]
  },
  {
   "cell_type": "markdown",
   "metadata": {},
   "source": [
    "#### Benefits of solving the dual problem instead of the primal problem\n",
    "\n",
    "* It's easier to optimize in dual than prime when the number of data points is less than the number of dimensions.\n",
    "\n",
    "* Irrespective of how many dimensions there are, dual representation only has as many parameters as the number of data points\n",
    "\n",
    "* When the number of data points grow, this advantage turns into a liability.\n",
    "\n",
    "* Regularizing the \"sparse support vector\" associated with the dual hypothesis is sometimes more intuitive than regularizing the vector of regression coefficients"
   ]
  },
  {
   "cell_type": "markdown",
   "metadata": {},
   "source": [
    "### Part 3"
   ]
  },
  {
   "cell_type": "markdown",
   "metadata": {},
   "source": [
    "\\begin{equation}\n",
    "\\underset{w_{m}\\in H,\\xi \\in R^l}{min} \\frac{1}{2} \\sum_{m=1}^{k} w_{m}^{T} w_{m} + C \\sum_{i=1}^{l}  \\xi_{i}\n",
    "\\end{equation}\n",
    "<br><br>\n",
    "\\begin{align}\n",
    "{\\text{subject to,   }}  w_{y_i}^T \\varphi(x_i) - w_{t}^{T}\\varphi(x_i) \\geq 1 - \\delta_{y_i,t} - \\xi_i\n",
    "\\end{align}\n",
    "\\begin{align}\n",
    "i = 1,...,l, t \\in {1,...,k},\n",
    "\\end{align}\n",
    "<br><br>\n",
    "The resulting Decision function is: \n",
    "\\begin{align}\n",
    "argmax_m f_m(x) = argmax_m w^{T}_{m} \\varphi(x)\n",
    "\\end{align}"
   ]
  }
 ],
 "metadata": {
  "kernelspec": {
   "display_name": "Python 3",
   "language": "python",
   "name": "python3"
  },
  "language_info": {
   "codemirror_mode": {
    "name": "ipython",
    "version": 3
   },
   "file_extension": ".py",
   "mimetype": "text/x-python",
   "name": "python",
   "nbconvert_exporter": "python",
   "pygments_lexer": "ipython3",
   "version": "3.7.5"
  }
 },
 "nbformat": 4,
 "nbformat_minor": 2
}
